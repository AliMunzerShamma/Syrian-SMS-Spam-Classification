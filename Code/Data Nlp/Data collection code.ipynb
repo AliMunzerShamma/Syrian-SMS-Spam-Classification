{
 "cells": [
  {
   "cell_type": "code",
   "execution_count": 4,
   "metadata": {},
   "outputs": [],
   "source": [
    "import pandas as pd\n",
    "from pandas import DataFrame\n",
    "import csv\n",
    "import re"
   ]
  },
  {
   "cell_type": "markdown",
   "metadata": {},
   "source": [
    "# لا تنفذ هذه الخانة"
   ]
  },
  {
   "cell_type": "code",
   "execution_count": 34,
   "metadata": {},
   "outputs": [],
   "source": [
    "Tweets = []\n",
    "Class = []\n",
    "with open('Alaa Naghwai.txt', 'r',encoding='utf-8') as fp:\n",
    "    line = fp.readline()\n",
    "    cnt = 1\n",
    "    while line:\n",
    "        #print(\"Line {}: {}\".format(cnt, line.strip()))\n",
    "        for i in range(len(line)):\n",
    "            s = line[i-1]\n",
    "            s1 = line[i]\n",
    "            if s == '|' and s1 == '|':\n",
    "                #print(line[i+1:])\n",
    "                Tweets.append(line[:i-1])\n",
    "                Class.append(line[i+1:len(line)-1])\n",
    "                #print(line[:i-1])\n",
    "        line = fp.readline()\n",
    "        cnt += 1"
   ]
  },
  {
   "cell_type": "code",
   "execution_count": 35,
   "metadata": {},
   "outputs": [],
   "source": [
    "df = DataFrame({'Tweets':Tweets, 'Class':Class})#, columns= ['tweet','Class'])\n",
    "CSV = df.to_csv (r'C:\\Users\\Billy Cobix 2\\Desktop\\القسم الثاني\\Test_Data2.csv',encoding=\"utf-8-sig\",index = None,header=True)"
   ]
  },
  {
   "cell_type": "markdown",
   "metadata": {},
   "source": [
    "# نفذ هذه"
   ]
  },
  {
   "cell_type": "markdown",
   "metadata": {},
   "source": [
    "# 1 قراءة البيانات من الملف"
   ]
  },
  {
   "cell_type": "code",
   "execution_count": 15,
   "metadata": {},
   "outputs": [],
   "source": [
    "df = pd.read_csv('Test_Data2.csv')\n",
    "data2 = [tuple(x) for x in df.values]\n",
    "\n",
    "data_list1 = []\n",
    "data_list2 = []\n",
    "for i in range(len(data2)):\n",
    "    d1 = data2[i][0]\n",
    "    d2 = data2[i][1]\n",
    "    data_list1.append(d1)\n",
    "    data_list2.append(d2)"
   ]
  },
  {
   "cell_type": "markdown",
   "metadata": {},
   "source": [
    "# 2 قراءة البيانات من كل ملف نصي "
   ]
  },
  {
   "cell_type": "code",
   "execution_count": 56,
   "metadata": {},
   "outputs": [],
   "source": [
    "Tweets = []# السلسلة الخاصة بنص التغريدات فقط\n",
    "Class = []# السلسلة الخاصة بصنف التغريدة فقط\n",
    "with open('علي منذر شمة.txt', 'r',encoding='utf-8') as fp:\n",
    "    line = fp.readline()#قراءة سطر أي تغريدة\n",
    "    cnt = 1\n",
    "    while line:\n",
    "        for i in range(len(line)):\n",
    "            s = line[i-1]\n",
    "            s1 = line[i]\n",
    "            if s == '|' and s1 == '|':\n",
    "                Tweets.append(line[:i-1])#وضع نص التغريدة ضمن السلسلة الخاصة بها\n",
    "                Class.append(line[i+1:len(line)-1])# وضع صنف التغريدة ضمن السلسلة الخاصة بها\n",
    "        line = fp.readline()\n",
    "        cnt += 1\n",
    "        \n",
    "        \n",
    "        \n",
    "Rep_del_Tweets = []\n",
    "Rep_del_Class = []\n",
    "#ومن اجل حذف التغريدات المكررة نقوم بمقارنة كل تغريدة من السلسلة مع جميع تغريدات الموجودة ضمن الملف الرئيسي\n",
    "for i in range(len(Tweets)):\n",
    "    k = 0\n",
    "    for j in range(len(data_list1)):\n",
    "        if Tweets[i] == data_list1[j]:\n",
    "            k = k+1\n",
    "    if k == 0:\n",
    "        Rep_del_Tweets.append(Tweets[i])\n",
    "        Rep_del_Class.append(Class[i])"
   ]
  },
  {
   "cell_type": "code",
   "execution_count": 14,
   "metadata": {},
   "outputs": [],
   "source": [
    "Rep_Tweets = []\n",
    "Rep_Class = []\n",
    "reg1 = r\"POS\"\n",
    "reg2 = r\"NEG\"\n",
    "#ومن اجل حذف التغريدات المكررة نقوم بمقارنة كل تغريدة من السلسلة مع جميع تغريدات الموجودة ضمن الملف الرئيسي\n",
    "for i in range(len(data_list1)):\n",
    "    Rep_Tweets.append(data_list1[i])\n",
    "    if re.search(reg1, str(data_list1[i])):\n",
    "        Rep_Class.append('POS')\n",
    "    elif re.search(reg2, str(data_list1[i])):\n",
    "        Rep_Class.append('NEG')\n",
    "    else:\n",
    "        Rep_Class.append(data_list2[i])\n",
    "        \n",
    "        \n",
    "df = DataFrame({'Tweets':Rep_Tweets, 'Class':Rep_Class})\n",
    "CSV = df.to_csv (r'C:\\Users\\Billy Cobix 2\\Desktop\\Data3.csv',encoding=\"utf-8-sig\",index = None,header=True)"
   ]
  },
  {
   "cell_type": "markdown",
   "metadata": {},
   "source": [
    "# 3 اضافة البيانات الجديدة الى الملفcsv"
   ]
  },
  {
   "cell_type": "code",
   "execution_count": 57,
   "metadata": {},
   "outputs": [],
   "source": [
    "with open('Data22.csv','a',encoding=\"utf-8-sig\",newline='') as fd:\n",
    "    writer = csv.writer(fd)\n",
    "    for i in range(len(Rep_del_Tweets)):\n",
    "        writer.writerow([Rep_del_Tweets[i], Rep_del_Class[i]])"
   ]
  },
  {
   "cell_type": "markdown",
   "metadata": {},
   "source": [
    "# 4 اصلاح التغريدات التي يكون صنفها خاطئ"
   ]
  },
  {
   "cell_type": "markdown",
   "metadata": {},
   "source": [
    "# اذا لم يكن الصنف هو \n",
    "# (NEG , POS) \n",
    "# فيتم البحث عن احدى الصنفين ضمن نص التغريدة وعلى اساسهُ يتم تعيين هذا الصنف لها"
   ]
  },
  {
   "cell_type": "code",
   "execution_count": 16,
   "metadata": {},
   "outputs": [],
   "source": [
    "Rep_Tweets = []\n",
    "Rep_Class = []\n",
    "reg1 = r\"POS\"\n",
    "reg2 = r\"NEG\"\n",
    "\n",
    "for i in range(len(data_list1)):\n",
    "    Rep_Tweets.append(data_list1[i])\n",
    "    if re.search(reg1, str(data_list1[i])):\n",
    "        Rep_Class.append('POS')\n",
    "    elif re.search(reg2, str(data_list1[i])):\n",
    "        Rep_Class.append('NEG')\n",
    "    else:\n",
    "        Rep_Class.append(data_list2[i])\n",
    "        \n",
    "        \n",
    "df = DataFrame({'Tweets':Rep_Tweets, 'Class':Rep_Class})\n",
    "CSV = df.to_csv (r'C:\\Users\\Billy Cobix 2\\Desktop\\Test_Data3.csv',encoding=\"utf-8-sig\",index = None,header=True)"
   ]
  },
  {
   "cell_type": "markdown",
   "metadata": {},
   "source": [
    "# -.- النهاية"
   ]
  },
  {
   "cell_type": "markdown",
   "metadata": {},
   "source": [
    "# تقديم الطالب : علي منذر شمة"
   ]
  },
  {
   "cell_type": "markdown",
   "metadata": {},
   "source": [
    "# الفئة : الثانية"
   ]
  }
 ],
 "metadata": {
  "kernelspec": {
   "display_name": "Python 3",
   "language": "python",
   "name": "python3"
  },
  "language_info": {
   "codemirror_mode": {
    "name": "ipython",
    "version": 3
   },
   "file_extension": ".py",
   "mimetype": "text/x-python",
   "name": "python",
   "nbconvert_exporter": "python",
   "pygments_lexer": "ipython3",
   "version": "3.7.3"
  }
 },
 "nbformat": 4,
 "nbformat_minor": 2
}
